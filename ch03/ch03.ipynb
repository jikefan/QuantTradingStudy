{
 "cells": [
  {
   "cell_type": "code",
   "execution_count": 1,
   "metadata": {},
   "outputs": [],
   "source": [
    "import pandas as pd\n",
    "import numpy as np\n",
    "import matplotlib.pyplot as plt\n",
    "\n",
    "def get_stock_df(code: str) -> pd.DataFrame:\n",
    "    df = pd.read_csv(f'../data/{code}.XSHE_2023-03-28_2024-04-03.csv')\n",
    "    return df"
   ]
  },
  {
   "cell_type": "code",
   "execution_count": 9,
   "metadata": {},
   "outputs": [],
   "source": [
    "df = get_stock_df(\"000001\")"
   ]
  },
  {
   "cell_type": "code",
   "execution_count": 6,
   "metadata": {},
   "outputs": [
    {
     "name": "stdout",
     "output_type": "stream",
     "text": [
      "<bound method DataFrame.info of            date   open  close   high    low       volume         money  \\\n",
      "0    2023-03-28  11.53  11.52  11.60  11.43   73959636.0  8.517979e+08   \n",
      "1    2023-03-29  11.60  11.42  11.61  11.39   65420339.0  7.506876e+08   \n",
      "2    2023-03-30  11.43  11.55  11.58  11.31   90497102.0  1.035423e+09   \n",
      "3    2023-03-31  11.56  11.42  11.64  11.40   94991018.0  1.092263e+09   \n",
      "4    2023-04-03  11.43  11.54  11.56  11.35   81264898.0  9.342852e+08   \n",
      "..          ...    ...    ...    ...    ...          ...           ...   \n",
      "243  2024-03-28   9.81   9.79   9.87   9.69  139520241.0  1.362980e+09   \n",
      "244  2024-03-29   9.75   9.82   9.87   9.73   93509891.0  9.173323e+08   \n",
      "245  2024-04-01   9.82   9.93   9.94   9.81  127616567.0  1.261770e+09   \n",
      "246  2024-04-02   9.92   9.85   9.97   9.83  116299099.0  1.149701e+09   \n",
      "247  2024-04-03   9.83   9.76   9.85   9.73  105197770.0  1.028649e+09   \n",
      "\n",
      "       factor  \n",
      "0    0.911130  \n",
      "1    0.911130  \n",
      "2    0.911130  \n",
      "3    0.911130  \n",
      "4    0.911130  \n",
      "..        ...  \n",
      "243  0.933333  \n",
      "244  0.933333  \n",
      "245  0.933333  \n",
      "246  0.933333  \n",
      "247  0.933333  \n",
      "\n",
      "[248 rows x 8 columns]>\n",
      "--------------------\n",
      "             open       close        high         low        volume  \\\n",
      "count  248.000000  248.000000  248.000000  248.000000  2.480000e+02   \n",
      "mean    10.161976   10.159758   10.257258   10.073508  1.134316e+08   \n",
      "std      0.971863    0.962683    0.985241    0.955763  6.946196e+07   \n",
      "min      8.410000    8.430000    8.520000    8.360000  3.914962e+07   \n",
      "25%      9.575000    9.567500    9.655000    9.535000  7.012185e+07   \n",
      "50%     10.415000   10.390000   10.475000   10.330000  9.339453e+07   \n",
      "75%     10.855000   10.850000   10.952500   10.762500  1.345193e+08   \n",
      "max     12.210000   12.140000   12.390000   11.960000  5.416376e+08   \n",
      "\n",
      "              money      factor  \n",
      "count  2.480000e+02  248.000000  \n",
      "mean   1.145580e+09    0.928678  \n",
      "std    7.004487e+08    0.009057  \n",
      "min    3.796382e+08    0.911130  \n",
      "25%    7.057809e+08    0.933333  \n",
      "50%    9.399942e+08    0.933333  \n",
      "75%    1.354047e+09    0.933333  \n",
      "max    5.307736e+09    0.933333  \n"
     ]
    }
   ],
   "source": [
    "print(df.info)\n",
    "\n",
    "print(\"--------------------\")\n",
    "\n",
    "print(df.describe())"
   ]
  },
  {
   "cell_type": "code",
   "execution_count": 14,
   "metadata": {},
   "outputs": [
    {
     "name": "stdout",
     "output_type": "stream",
     "text": [
      "close min: 8.43\n",
      "close min index: 179\n",
      "close min frame:\n",
      "date        2023-12-20\n",
      "open               8.5\n",
      "close             8.43\n",
      "high              8.54\n",
      "low               8.43\n",
      "volume      76675032.0\n",
      "money     650511342.87\n",
      "factor        0.933333\n",
      "Name: 179, dtype: object\n"
     ]
    }
   ],
   "source": [
    "# 最低收盘价\n",
    "def testCloseMin():\n",
    "    print(f\"close min: {df['close'].min()}\")\n",
    "\n",
    "    print(f\"close min index: {df['close'].idxmin()}\")\n",
    "\n",
    "    print(f\"close min frame:\\n{df.loc[df['close'].idxmin()]}\")\n",
    "testCloseMin()"
   ]
  },
  {
   "cell_type": "code",
   "execution_count": 19,
   "metadata": {},
   "outputs": [
    {
     "name": "stdout",
     "output_type": "stream",
     "text": [
      "month close mean:\n",
      "month\n",
      "1      8.659091\n",
      "2      9.414667\n",
      "3     10.023200\n",
      "4     11.232273\n",
      "5     11.356500\n",
      "6     10.698500\n",
      "7     10.698571\n",
      "8     10.914783\n",
      "9     10.514500\n",
      "10    10.025882\n",
      "11     9.567727\n",
      "12     8.675238\n",
      "Name: close, dtype: float64\n",
      "month open mean:\n",
      "month\n",
      "1      8.640909\n",
      "2      9.307333\n",
      "3     10.033600\n",
      "4     11.228636\n",
      "5     11.400000\n",
      "6     10.702500\n",
      "7     10.652381\n",
      "8     10.965652\n",
      "9     10.509500\n",
      "10    10.058235\n",
      "11     9.602273\n",
      "12     8.676190\n",
      "Name: open, dtype: float64\n"
     ]
    }
   ],
   "source": [
    "# 每月平均收盘价与开盘价\n",
    "def testMean():\n",
    "    df[\"date\"] = df[\"date\"]\n",
    "    df[\"month\"] = pd.to_datetime(df[\"date\"]).dt.month\n",
    "\n",
    "    print(f\"month close mean:\\n{df.groupby('month')['close'].mean()}\")\n",
    "    print(f\"month open mean:\\n{df.groupby('month')['open'].mean()}\")\n",
    "\n",
    "testMean()"
   ]
  },
  {
   "cell_type": "code",
   "execution_count": 22,
   "metadata": {},
   "outputs": [
    {
     "name": "stdout",
     "output_type": "stream",
     "text": [
      "          date   open  close   high    low       volume         money  \\\n",
      "0   2023-03-28  11.53  11.52  11.60  11.43   73959636.0  8.517979e+08   \n",
      "1   2023-03-29  11.60  11.42  11.61  11.39   65420339.0  7.506876e+08   \n",
      "2   2023-03-30  11.43  11.55  11.58  11.31   90497102.0  1.035423e+09   \n",
      "3   2023-03-31  11.56  11.42  11.64  11.40   94991018.0  1.092263e+09   \n",
      "4   2023-04-03  11.43  11.54  11.56  11.35   81264898.0  9.342852e+08   \n",
      "..         ...    ...    ...    ...    ...          ...           ...   \n",
      "243 2024-03-28   9.81   9.79   9.87   9.69  139520241.0  1.362980e+09   \n",
      "244 2024-03-29   9.75   9.82   9.87   9.73   93509891.0  9.173323e+08   \n",
      "245 2024-04-01   9.82   9.93   9.94   9.81  127616567.0  1.261770e+09   \n",
      "246 2024-04-02   9.92   9.85   9.97   9.83  116299099.0  1.149701e+09   \n",
      "247 2024-04-03   9.83   9.76   9.85   9.73  105197770.0  1.028649e+09   \n",
      "\n",
      "       factor  month  rise  rise_ratio  \n",
      "0    0.911130      3   NaN         NaN  \n",
      "1    0.911130      3 -0.10   -0.008658  \n",
      "2    0.911130      3  0.13    0.011384  \n",
      "3    0.911130      3 -0.13   -0.011265  \n",
      "4    0.911130      4  0.12    0.010408  \n",
      "..        ...    ...   ...         ...  \n",
      "243  0.933333      3 -0.04   -0.004073  \n",
      "244  0.933333      3  0.03    0.003021  \n",
      "245  0.933333      4  0.11    0.011168  \n",
      "246  0.933333      4 -0.08   -0.008197  \n",
      "247  0.933333      4 -0.09         NaN  \n",
      "\n",
      "[248 rows x 11 columns]\n"
     ]
    }
   ],
   "source": [
    "# 计算涨跌幅\n",
    "# 涨跌幅今日收盘价减去昨日收盘价\n",
    "def testRipples_ratio():\n",
    "    df['date'] = pd.to_datetime(df['date'])\n",
    "    df['rise'] = df['close'].diff()\n",
    "    df['rise_ratio'] = df['rise'] / df.shift(-1)['close']\n",
    "    print(df)\n",
    "\n",
    "testRipples_ratio()"
   ]
  }
 ],
 "metadata": {
  "kernelspec": {
   "display_name": "base",
   "language": "python",
   "name": "python3"
  },
  "language_info": {
   "codemirror_mode": {
    "name": "ipython",
    "version": 3
   },
   "file_extension": ".py",
   "mimetype": "text/x-python",
   "name": "python",
   "nbconvert_exporter": "python",
   "pygments_lexer": "ipython3",
   "version": "3.9.13"
  }
 },
 "nbformat": 4,
 "nbformat_minor": 2
}
