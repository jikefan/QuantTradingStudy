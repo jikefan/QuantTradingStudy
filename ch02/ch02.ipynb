{
 "cells": [
  {
   "cell_type": "code",
   "execution_count": 1,
   "metadata": {},
   "outputs": [],
   "source": [
    "import pandas as pd\n",
    "import numpy as np\n",
    "\n",
    "def get_stock_df(code: str) -> pd.DataFrame:\n",
    "    df = pd.read_csv(f'../data/{code}.XSHE_2023-03-28_2024-04-03.csv')\n",
    "    return df"
   ]
  },
  {
   "cell_type": "code",
   "execution_count": 2,
   "metadata": {},
   "outputs": [],
   "source": [
    "df = get_stock_df(\"000001\")"
   ]
  },
  {
   "cell_type": "code",
   "execution_count": 3,
   "metadata": {},
   "outputs": [
    {
     "data": {
      "text/html": [
       "<div>\n",
       "<style scoped>\n",
       "    .dataframe tbody tr th:only-of-type {\n",
       "        vertical-align: middle;\n",
       "    }\n",
       "\n",
       "    .dataframe tbody tr th {\n",
       "        vertical-align: top;\n",
       "    }\n",
       "\n",
       "    .dataframe thead th {\n",
       "        text-align: right;\n",
       "    }\n",
       "</style>\n",
       "<table border=\"1\" class=\"dataframe\">\n",
       "  <thead>\n",
       "    <tr style=\"text-align: right;\">\n",
       "      <th></th>\n",
       "      <th>date</th>\n",
       "      <th>open</th>\n",
       "      <th>close</th>\n",
       "      <th>high</th>\n",
       "      <th>low</th>\n",
       "      <th>volume</th>\n",
       "      <th>money</th>\n",
       "      <th>factor</th>\n",
       "    </tr>\n",
       "  </thead>\n",
       "  <tbody>\n",
       "    <tr>\n",
       "      <th>0</th>\n",
       "      <td>2023-03-28</td>\n",
       "      <td>11.53</td>\n",
       "      <td>11.52</td>\n",
       "      <td>11.60</td>\n",
       "      <td>11.43</td>\n",
       "      <td>73959636.0</td>\n",
       "      <td>8.517979e+08</td>\n",
       "      <td>0.91113</td>\n",
       "    </tr>\n",
       "    <tr>\n",
       "      <th>1</th>\n",
       "      <td>2023-03-29</td>\n",
       "      <td>11.60</td>\n",
       "      <td>11.42</td>\n",
       "      <td>11.61</td>\n",
       "      <td>11.39</td>\n",
       "      <td>65420339.0</td>\n",
       "      <td>7.506876e+08</td>\n",
       "      <td>0.91113</td>\n",
       "    </tr>\n",
       "    <tr>\n",
       "      <th>2</th>\n",
       "      <td>2023-03-30</td>\n",
       "      <td>11.43</td>\n",
       "      <td>11.55</td>\n",
       "      <td>11.58</td>\n",
       "      <td>11.31</td>\n",
       "      <td>90497102.0</td>\n",
       "      <td>1.035423e+09</td>\n",
       "      <td>0.91113</td>\n",
       "    </tr>\n",
       "    <tr>\n",
       "      <th>3</th>\n",
       "      <td>2023-03-31</td>\n",
       "      <td>11.56</td>\n",
       "      <td>11.42</td>\n",
       "      <td>11.64</td>\n",
       "      <td>11.40</td>\n",
       "      <td>94991018.0</td>\n",
       "      <td>1.092263e+09</td>\n",
       "      <td>0.91113</td>\n",
       "    </tr>\n",
       "    <tr>\n",
       "      <th>4</th>\n",
       "      <td>2023-04-03</td>\n",
       "      <td>11.43</td>\n",
       "      <td>11.54</td>\n",
       "      <td>11.56</td>\n",
       "      <td>11.35</td>\n",
       "      <td>81264898.0</td>\n",
       "      <td>9.342852e+08</td>\n",
       "      <td>0.91113</td>\n",
       "    </tr>\n",
       "  </tbody>\n",
       "</table>\n",
       "</div>"
      ],
      "text/plain": [
       "         date   open  close   high    low      volume         money   factor\n",
       "0  2023-03-28  11.53  11.52  11.60  11.43  73959636.0  8.517979e+08  0.91113\n",
       "1  2023-03-29  11.60  11.42  11.61  11.39  65420339.0  7.506876e+08  0.91113\n",
       "2  2023-03-30  11.43  11.55  11.58  11.31  90497102.0  1.035423e+09  0.91113\n",
       "3  2023-03-31  11.56  11.42  11.64  11.40  94991018.0  1.092263e+09  0.91113\n",
       "4  2023-04-03  11.43  11.54  11.56  11.35  81264898.0  9.342852e+08  0.91113"
      ]
     },
     "execution_count": 3,
     "metadata": {},
     "output_type": "execute_result"
    }
   ],
   "source": [
    "df.head()"
   ]
  },
  {
   "cell_type": "code",
   "execution_count": null,
   "metadata": {},
   "outputs": [
    {
     "name": "stdout",
     "output_type": "stream",
     "text": [
      "Max Price: 12.39\n",
      "Min Price: 8.36\n"
     ]
    }
   ],
   "source": [
    "print(f\"Max Price: {df['high'].max()}\") # 计算最高价\n",
    "print(f\"Min Price: {df['low'].min()}\") # 计算最低价"
   ]
  },
  {
   "cell_type": "code",
   "execution_count": 11,
   "metadata": {},
   "outputs": [
    {
     "name": "stdout",
     "output_type": "stream",
     "text": [
      "3.870000000000001\n",
      "3.6000000000000014\n"
     ]
    }
   ],
   "source": [
    "# 计算最高价的最大值和最低值的极差\n",
    "print(np.ptp(df['high']))\n",
    "# 计算最低价的最大值和最低值的极差\n",
    "print(np.ptp(df['low']))"
   ]
  },
  {
   "cell_type": "code",
   "execution_count": 14,
   "metadata": {},
   "outputs": [
    {
     "name": "stdout",
     "output_type": "stream",
     "text": [
      "average price: 10.15975806451613\n",
      "weight average price: 10.103729375070555\n"
     ]
    }
   ],
   "source": [
    "# 计算成交量加权平均价格（代表金融资产的平均价格）\n",
    "print(f\"average price: {np.average(df['close'])}\")\n",
    "\n",
    "VWAP = np.average(df['close'], weights=df['volume'])\n",
    "print(f\"weight average price: {VWAP}\")"
   ]
  },
  {
   "cell_type": "code",
   "execution_count": 15,
   "metadata": {},
   "outputs": [
    {
     "name": "stdout",
     "output_type": "stream",
     "text": [
      "10.39\n"
     ]
    }
   ],
   "source": [
    "# 计算收盘价的中位数\n",
    "print(np.median(df['close']))"
   ]
  },
  {
   "cell_type": "code",
   "execution_count": null,
   "metadata": {},
   "outputs": [
    {
     "name": "stdout",
     "output_type": "stream",
     "text": [
      "var = 0.9267578359670882\n",
      "var = 0.9267578359670882\n"
     ]
    }
   ],
   "source": [
    "# 计算收盘价的方差\n",
    "print(f\"var = {df['close'].var()}\")\n",
    "\n",
    "print(f\"var = {np.var(df['close'], ddof=1)}\")\n",
    "\n",
    "# 在计算方差时，Pandas 和 NumPy 的默认行为不同，导致结果差异：\n",
    "# 分母差异\n",
    "# Pandas df['close'].var()：默认使用 样本方差（无偏估计），分母为 n - 1。\n",
    "# NumPy np.var(df['close'])：默认使用 总体方差，分母为 n。\n"
   ]
  },
  {
   "cell_type": "code",
   "execution_count": 25,
   "metadata": {},
   "outputs": [
    {
     "name": "stdout",
     "output_type": "stream",
     "text": [
      "[-0.00871845  0.01131923 -0.01131923  0.01045306 -0.00086693 -0.00608962\n",
      "  0.00348432  0.0043384  -0.01044396 -0.00526317]\n",
      "annual_volatility = -325.55447395050396\n",
      "monthly_volatility = -71.32541163176761\n"
     ]
    }
   ],
   "source": [
    "# 计算对数收益率\n",
    "log_return = np.diff(np.log(df['close']))\n",
    "\n",
    "print(log_return[:10]) # 打印前五个\n",
    "\n",
    "# 年波动率等于对数收益率的标准差除以其均值，再乘以交易日的平方根，通常交易日取250天\n",
    "annual_volatility = log_return.std() / log_return.mean() * np.sqrt(250)\n",
    "\n",
    "# 月波动率等于对数收益率的标准差除以其均值，再乘以交易月的平方根，通常交易月取12天\n",
    "monthly_volatility = log_return.std() / log_return.mean() * np.sqrt(12)\n",
    "\n",
    "print(f\"annual_volatility = {annual_volatility}\")\n",
    "print(f\"monthly_volatility = {monthly_volatility}\")"
   ]
  },
  {
   "cell_type": "code",
   "execution_count": null,
   "metadata": {},
   "outputs": [
    {
     "name": "stdout",
     "output_type": "stream",
     "text": [
      "Full mode: [0.  1.  2.5 4.  1.5]\n",
      "Same mode: [1.  2.5 4. ]\n",
      "Valid mode: [2.5]\n"
     ]
    }
   ],
   "source": [
    "# np.convolve的详细计算过程参考此文章：https://www.cnblogs.com/redtank/p/15678714.html\n",
    "a = np.array([1, 2, 3])\n",
    "b = np.array([0, 1, 0.5])\n",
    "\n",
    "# 'full' 模式\n",
    "result_full = np.convolve(a, b, mode='full')\n",
    "print(\"Full mode:\", result_full)\n",
    "\n",
    "# 'same' 模式\n",
    "result_same = np.convolve(a, b, mode='same')\n",
    "print(\"Same mode:\", result_same)\n",
    "\n",
    "# 'valid' 模式\n",
    "result_valid = np.convolve(a, b, mode='valid')\n",
    "print(\"Valid mode:\", result_valid)"
   ]
  },
  {
   "cell_type": "code",
   "execution_count": 47,
   "metadata": {},
   "outputs": [
    {
     "data": {
      "image/png": "[encoded data removed]",
      "text/plain": [
       "<Figure size 640x480 with 1 Axes>"
      ]
     },
     "metadata": {},
     "output_type": "display_data"
    }
   ],
   "source": [
    "import matplotlib.pyplot as plt\n",
    "\n",
    "# 5日简单移动平均线计算\n",
    "N = 5\n",
    "weights = np.ones(N) / N\n",
    "sma = np.convolve(df['close'], weights, mode='valid')\n",
    "\n",
    "# print(sma)\n",
    "plt.plot(sma, linewidth=1)\n",
    "plt.plot(df['close'], linewidth=1)\n",
    "plt.show()\n"
   ]
  }
 ],
 "metadata": {
  "kernelspec": {
   "display_name": "base",
   "language": "python",
   "name": "python3"
  },
  "language_info": {
   "codemirror_mode": {
    "name": "ipython",
    "version": 3
   },
   "file_extension": ".py",
   "mimetype": "text/x-python",
   "name": "python",
   "nbconvert_exporter": "python",
   "pygments_lexer": "ipython3",
   "version": "3.9.13"
  }
 },
 "nbformat": 4,
 "nbformat_minor": 2
}
